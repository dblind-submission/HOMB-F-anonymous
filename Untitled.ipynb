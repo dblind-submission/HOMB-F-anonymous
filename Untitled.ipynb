{
 "cells": [
  {
   "cell_type": "code",
   "execution_count": 1,
   "id": "c501d11b",
   "metadata": {},
   "outputs": [],
   "source": [
    "import pandas as pd\n",
    "import numpy as np\n",
    "\n",
    "X = pd.read_csv('/Users/mkouhounesta/Desktop/mimic/prepared-data/train_with_icd.csv')\n",
    "Original_pain = X['triage_pain'].unique()"
   ]
  },
  {
   "cell_type": "code",
   "execution_count": 2,
   "id": "2b399dc9",
   "metadata": {},
   "outputs": [
    {
     "name": "stdout",
     "output_type": "stream",
     "text": [
      "[0.0, 0.5, 1.0, 1.5, 2.0, 2.5, 3.0, 3.5, 4.0, 4.5, 5.0, 5.5, 6.0, 6.5, 7.0, 7.5, 8.0, 8.5, 9.0, 9.5, 10.0]\n"
     ]
    }
   ],
   "source": [
    "sorted_pain = sorted(Original_pain)\n",
    "\n",
    "# Show the sorted values\n",
    "print(sorted_pain)"
   ]
  },
  {
   "cell_type": "code",
   "execution_count": 2,
   "id": "5b295fcd",
   "metadata": {},
   "outputs": [],
   "source": [
    "def map_and_replace_columns(df, columns):\n",
    "    mappings = {}\n",
    "    \n",
    "    for column in columns:\n",
    "        values = df[column].values\n",
    "        rounded_values = np.ceil(values).astype(int)\n",
    "        unique_values = np.unique(rounded_values)\n",
    "        \n",
    "        mapping = {old_value: new_value for new_value, old_value in enumerate(unique_values, start=1)}\n",
    "        mapped_values = np.array([mapping[value] for value in rounded_values])\n",
    "        \n",
    "        df[column] = mapped_values\n",
    "        mappings[column] = mapping  # Store the mapping for each column\n",
    "    \n",
    "    return df"
   ]
  },
  {
   "cell_type": "code",
   "execution_count": 3,
   "id": "2643e76e",
   "metadata": {},
   "outputs": [],
   "source": [
    "ordinal_columns = ['triage_acuity', 'triage_pain']\n",
    "\n",
    "\n",
    "X = X[ordinal_columns]\n",
    "X[ordinal_columns] = map_and_replace_columns(X, ordinal_columns)"
   ]
  },
  {
   "cell_type": "code",
   "execution_count": 4,
   "id": "e633ba63",
   "metadata": {},
   "outputs": [
    {
     "data": {
      "text/plain": [
       "array([ 1, 10,  6,  5,  9, 11,  7,  3,  2,  8,  4])"
      ]
     },
     "execution_count": 4,
     "metadata": {},
     "output_type": "execute_result"
    }
   ],
   "source": [
    "X['triage_pain'].unique()"
   ]
  },
  {
   "cell_type": "code",
   "execution_count": null,
   "id": "432f9e51",
   "metadata": {},
   "outputs": [],
   "source": []
  }
 ],
 "metadata": {
  "kernelspec": {
   "display_name": "Python 3.10 (tensorflow)",
   "language": "python",
   "name": "tensorflow"
  },
  "language_info": {
   "codemirror_mode": {
    "name": "ipython",
    "version": 3
   },
   "file_extension": ".py",
   "mimetype": "text/x-python",
   "name": "python",
   "nbconvert_exporter": "python",
   "pygments_lexer": "ipython3",
   "version": "3.10.10"
  }
 },
 "nbformat": 4,
 "nbformat_minor": 5
}
